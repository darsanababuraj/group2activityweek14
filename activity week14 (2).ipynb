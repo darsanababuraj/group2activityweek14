{
 "cells": [
  {
   "cell_type": "markdown",
   "id": "500607d1",
   "metadata": {},
   "source": [
    "# Activity 14 - Submitted by group 2\n",
    "Members - Aboobacker Sidhique Mukkil, Ajeesh LJ, Darsana Baburaj, Maya Mohan, Rasal V"
   ]
  },
  {
   "cell_type": "markdown",
   "id": "152ff89f",
   "metadata": {},
   "source": [
    "### HELP International is an international humanitarian NGO that is committed to fighting poverty and providing the people of backward countries with basic amenities and relief during the time of disasters and natural calamities. After the recent project that included a lot of awareness drives and funding programmes, they have been able to raise around  10 million. The significant issues that come while making this decision are mostly related to choosing the countries that are in the direst need of aid.How will you help this NGO to make a correct decision based on socio-economic and health factors?\n",
    "\n"
   ]
  },
  {
   "cell_type": "markdown",
   "id": "b5733d5d",
   "metadata": {},
   "source": [
    "#### AIM:\n",
    "we can help the NGO by making optimum number of clusters based on socio-economical health factors using KMeans and Hierarchial Clustering."
   ]
  },
  {
   "cell_type": "code",
   "execution_count": 1,
   "id": "c6560d3f",
   "metadata": {},
   "outputs": [],
   "source": [
    "import pandas as pd\n",
    "import numpy as np\n",
    "import matplotlib.pyplot as plt\n",
    "import seaborn as sns\n",
    "import scipy.stats as stat"
   ]
  },
  {
   "cell_type": "code",
   "execution_count": 2,
   "id": "8de47029",
   "metadata": {},
   "outputs": [],
   "source": [
    "data=pd.read_csv(\"Downloads/Country-data.csv\")"
   ]
  },
  {
   "cell_type": "code",
   "execution_count": 3,
   "id": "343c4e50",
   "metadata": {},
   "outputs": [
    {
     "data": {
      "text/html": [
       "<div>\n",
       "<style scoped>\n",
       "    .dataframe tbody tr th:only-of-type {\n",
       "        vertical-align: middle;\n",
       "    }\n",
       "\n",
       "    .dataframe tbody tr th {\n",
       "        vertical-align: top;\n",
       "    }\n",
       "\n",
       "    .dataframe thead th {\n",
       "        text-align: right;\n",
       "    }\n",
       "</style>\n",
       "<table border=\"1\" class=\"dataframe\">\n",
       "  <thead>\n",
       "    <tr style=\"text-align: right;\">\n",
       "      <th></th>\n",
       "      <th>country</th>\n",
       "      <th>child_mort</th>\n",
       "      <th>exports</th>\n",
       "      <th>health</th>\n",
       "      <th>imports</th>\n",
       "      <th>income</th>\n",
       "      <th>inflation</th>\n",
       "      <th>life_expec</th>\n",
       "      <th>total_fer</th>\n",
       "      <th>gdpp</th>\n",
       "    </tr>\n",
       "  </thead>\n",
       "  <tbody>\n",
       "    <tr>\n",
       "      <th>0</th>\n",
       "      <td>Afghanistan</td>\n",
       "      <td>90.2</td>\n",
       "      <td>10.0</td>\n",
       "      <td>7.58</td>\n",
       "      <td>44.9</td>\n",
       "      <td>1610</td>\n",
       "      <td>9.44</td>\n",
       "      <td>56.2</td>\n",
       "      <td>5.82</td>\n",
       "      <td>553</td>\n",
       "    </tr>\n",
       "    <tr>\n",
       "      <th>1</th>\n",
       "      <td>Albania</td>\n",
       "      <td>16.6</td>\n",
       "      <td>28.0</td>\n",
       "      <td>6.55</td>\n",
       "      <td>48.6</td>\n",
       "      <td>9930</td>\n",
       "      <td>4.49</td>\n",
       "      <td>76.3</td>\n",
       "      <td>1.65</td>\n",
       "      <td>4090</td>\n",
       "    </tr>\n",
       "    <tr>\n",
       "      <th>2</th>\n",
       "      <td>Algeria</td>\n",
       "      <td>27.3</td>\n",
       "      <td>38.4</td>\n",
       "      <td>4.17</td>\n",
       "      <td>31.4</td>\n",
       "      <td>12900</td>\n",
       "      <td>16.10</td>\n",
       "      <td>76.5</td>\n",
       "      <td>2.89</td>\n",
       "      <td>4460</td>\n",
       "    </tr>\n",
       "    <tr>\n",
       "      <th>3</th>\n",
       "      <td>Angola</td>\n",
       "      <td>119.0</td>\n",
       "      <td>62.3</td>\n",
       "      <td>2.85</td>\n",
       "      <td>42.9</td>\n",
       "      <td>5900</td>\n",
       "      <td>22.40</td>\n",
       "      <td>60.1</td>\n",
       "      <td>6.16</td>\n",
       "      <td>3530</td>\n",
       "    </tr>\n",
       "    <tr>\n",
       "      <th>4</th>\n",
       "      <td>Antigua and Barbuda</td>\n",
       "      <td>10.3</td>\n",
       "      <td>45.5</td>\n",
       "      <td>6.03</td>\n",
       "      <td>58.9</td>\n",
       "      <td>19100</td>\n",
       "      <td>1.44</td>\n",
       "      <td>76.8</td>\n",
       "      <td>2.13</td>\n",
       "      <td>12200</td>\n",
       "    </tr>\n",
       "  </tbody>\n",
       "</table>\n",
       "</div>"
      ],
      "text/plain": [
       "               country  child_mort  exports  health  imports  income  \\\n",
       "0          Afghanistan        90.2     10.0    7.58     44.9    1610   \n",
       "1              Albania        16.6     28.0    6.55     48.6    9930   \n",
       "2              Algeria        27.3     38.4    4.17     31.4   12900   \n",
       "3               Angola       119.0     62.3    2.85     42.9    5900   \n",
       "4  Antigua and Barbuda        10.3     45.5    6.03     58.9   19100   \n",
       "\n",
       "   inflation  life_expec  total_fer   gdpp  \n",
       "0       9.44        56.2       5.82    553  \n",
       "1       4.49        76.3       1.65   4090  \n",
       "2      16.10        76.5       2.89   4460  \n",
       "3      22.40        60.1       6.16   3530  \n",
       "4       1.44        76.8       2.13  12200  "
      ]
     },
     "execution_count": 3,
     "metadata": {},
     "output_type": "execute_result"
    }
   ],
   "source": [
    "data.head()"
   ]
  },
  {
   "cell_type": "code",
   "execution_count": 4,
   "id": "be4d405b",
   "metadata": {},
   "outputs": [
    {
     "data": {
      "text/html": [
       "<div>\n",
       "<style scoped>\n",
       "    .dataframe tbody tr th:only-of-type {\n",
       "        vertical-align: middle;\n",
       "    }\n",
       "\n",
       "    .dataframe tbody tr th {\n",
       "        vertical-align: top;\n",
       "    }\n",
       "\n",
       "    .dataframe thead th {\n",
       "        text-align: right;\n",
       "    }\n",
       "</style>\n",
       "<table border=\"1\" class=\"dataframe\">\n",
       "  <thead>\n",
       "    <tr style=\"text-align: right;\">\n",
       "      <th></th>\n",
       "      <th>child_mort</th>\n",
       "      <th>exports</th>\n",
       "      <th>health</th>\n",
       "      <th>imports</th>\n",
       "      <th>income</th>\n",
       "      <th>inflation</th>\n",
       "      <th>life_expec</th>\n",
       "      <th>total_fer</th>\n",
       "      <th>gdpp</th>\n",
       "    </tr>\n",
       "  </thead>\n",
       "  <tbody>\n",
       "    <tr>\n",
       "      <th>count</th>\n",
       "      <td>167.000000</td>\n",
       "      <td>167.000000</td>\n",
       "      <td>167.000000</td>\n",
       "      <td>167.000000</td>\n",
       "      <td>167.000000</td>\n",
       "      <td>167.000000</td>\n",
       "      <td>167.000000</td>\n",
       "      <td>167.000000</td>\n",
       "      <td>167.000000</td>\n",
       "    </tr>\n",
       "    <tr>\n",
       "      <th>mean</th>\n",
       "      <td>38.270060</td>\n",
       "      <td>41.108976</td>\n",
       "      <td>6.815689</td>\n",
       "      <td>46.890215</td>\n",
       "      <td>17144.688623</td>\n",
       "      <td>7.781832</td>\n",
       "      <td>70.555689</td>\n",
       "      <td>2.947964</td>\n",
       "      <td>12964.155689</td>\n",
       "    </tr>\n",
       "    <tr>\n",
       "      <th>std</th>\n",
       "      <td>40.328931</td>\n",
       "      <td>27.412010</td>\n",
       "      <td>2.746837</td>\n",
       "      <td>24.209589</td>\n",
       "      <td>19278.067698</td>\n",
       "      <td>10.570704</td>\n",
       "      <td>8.893172</td>\n",
       "      <td>1.513848</td>\n",
       "      <td>18328.704809</td>\n",
       "    </tr>\n",
       "    <tr>\n",
       "      <th>min</th>\n",
       "      <td>2.600000</td>\n",
       "      <td>0.109000</td>\n",
       "      <td>1.810000</td>\n",
       "      <td>0.065900</td>\n",
       "      <td>609.000000</td>\n",
       "      <td>-4.210000</td>\n",
       "      <td>32.100000</td>\n",
       "      <td>1.150000</td>\n",
       "      <td>231.000000</td>\n",
       "    </tr>\n",
       "    <tr>\n",
       "      <th>25%</th>\n",
       "      <td>8.250000</td>\n",
       "      <td>23.800000</td>\n",
       "      <td>4.920000</td>\n",
       "      <td>30.200000</td>\n",
       "      <td>3355.000000</td>\n",
       "      <td>1.810000</td>\n",
       "      <td>65.300000</td>\n",
       "      <td>1.795000</td>\n",
       "      <td>1330.000000</td>\n",
       "    </tr>\n",
       "    <tr>\n",
       "      <th>50%</th>\n",
       "      <td>19.300000</td>\n",
       "      <td>35.000000</td>\n",
       "      <td>6.320000</td>\n",
       "      <td>43.300000</td>\n",
       "      <td>9960.000000</td>\n",
       "      <td>5.390000</td>\n",
       "      <td>73.100000</td>\n",
       "      <td>2.410000</td>\n",
       "      <td>4660.000000</td>\n",
       "    </tr>\n",
       "    <tr>\n",
       "      <th>75%</th>\n",
       "      <td>62.100000</td>\n",
       "      <td>51.350000</td>\n",
       "      <td>8.600000</td>\n",
       "      <td>58.750000</td>\n",
       "      <td>22800.000000</td>\n",
       "      <td>10.750000</td>\n",
       "      <td>76.800000</td>\n",
       "      <td>3.880000</td>\n",
       "      <td>14050.000000</td>\n",
       "    </tr>\n",
       "    <tr>\n",
       "      <th>max</th>\n",
       "      <td>208.000000</td>\n",
       "      <td>200.000000</td>\n",
       "      <td>17.900000</td>\n",
       "      <td>174.000000</td>\n",
       "      <td>125000.000000</td>\n",
       "      <td>104.000000</td>\n",
       "      <td>82.800000</td>\n",
       "      <td>7.490000</td>\n",
       "      <td>105000.000000</td>\n",
       "    </tr>\n",
       "  </tbody>\n",
       "</table>\n",
       "</div>"
      ],
      "text/plain": [
       "       child_mort     exports      health     imports         income  \\\n",
       "count  167.000000  167.000000  167.000000  167.000000     167.000000   \n",
       "mean    38.270060   41.108976    6.815689   46.890215   17144.688623   \n",
       "std     40.328931   27.412010    2.746837   24.209589   19278.067698   \n",
       "min      2.600000    0.109000    1.810000    0.065900     609.000000   \n",
       "25%      8.250000   23.800000    4.920000   30.200000    3355.000000   \n",
       "50%     19.300000   35.000000    6.320000   43.300000    9960.000000   \n",
       "75%     62.100000   51.350000    8.600000   58.750000   22800.000000   \n",
       "max    208.000000  200.000000   17.900000  174.000000  125000.000000   \n",
       "\n",
       "        inflation  life_expec   total_fer           gdpp  \n",
       "count  167.000000  167.000000  167.000000     167.000000  \n",
       "mean     7.781832   70.555689    2.947964   12964.155689  \n",
       "std     10.570704    8.893172    1.513848   18328.704809  \n",
       "min     -4.210000   32.100000    1.150000     231.000000  \n",
       "25%      1.810000   65.300000    1.795000    1330.000000  \n",
       "50%      5.390000   73.100000    2.410000    4660.000000  \n",
       "75%     10.750000   76.800000    3.880000   14050.000000  \n",
       "max    104.000000   82.800000    7.490000  105000.000000  "
      ]
     },
     "execution_count": 4,
     "metadata": {},
     "output_type": "execute_result"
    }
   ],
   "source": [
    "data.describe()"
   ]
  },
  {
   "cell_type": "code",
   "execution_count": 5,
   "id": "8d1cd4b6",
   "metadata": {},
   "outputs": [
    {
     "name": "stdout",
     "output_type": "stream",
     "text": [
      "<class 'pandas.core.frame.DataFrame'>\n",
      "RangeIndex: 167 entries, 0 to 166\n",
      "Data columns (total 10 columns):\n",
      " #   Column      Non-Null Count  Dtype  \n",
      "---  ------      --------------  -----  \n",
      " 0   country     167 non-null    object \n",
      " 1   child_mort  167 non-null    float64\n",
      " 2   exports     167 non-null    float64\n",
      " 3   health      167 non-null    float64\n",
      " 4   imports     167 non-null    float64\n",
      " 5   income      167 non-null    int64  \n",
      " 6   inflation   167 non-null    float64\n",
      " 7   life_expec  167 non-null    float64\n",
      " 8   total_fer   167 non-null    float64\n",
      " 9   gdpp        167 non-null    int64  \n",
      "dtypes: float64(7), int64(2), object(1)\n",
      "memory usage: 13.2+ KB\n"
     ]
    }
   ],
   "source": [
    "data.info()"
   ]
  },
  {
   "cell_type": "code",
   "execution_count": 6,
   "id": "c997b05f",
   "metadata": {},
   "outputs": [
    {
     "data": {
      "text/plain": [
       "country       0\n",
       "child_mort    0\n",
       "exports       0\n",
       "health        0\n",
       "imports       0\n",
       "income        0\n",
       "inflation     0\n",
       "life_expec    0\n",
       "total_fer     0\n",
       "gdpp          0\n",
       "dtype: int64"
      ]
     },
     "execution_count": 6,
     "metadata": {},
     "output_type": "execute_result"
    }
   ],
   "source": [
    "data.isna().sum()"
   ]
  },
  {
   "cell_type": "markdown",
   "id": "de8efe52",
   "metadata": {},
   "source": [
    "#### As we can see, there are no null values in the dataset"
   ]
  },
  {
   "cell_type": "code",
   "execution_count": 7,
   "id": "49522dce",
   "metadata": {},
   "outputs": [
    {
     "data": {
      "text/plain": [
       "167"
      ]
     },
     "execution_count": 7,
     "metadata": {},
     "output_type": "execute_result"
    }
   ],
   "source": [
    "data['country'].nunique()"
   ]
  },
  {
   "cell_type": "markdown",
   "id": "5384c4a4",
   "metadata": {},
   "source": [
    "#### As we can see, there are no duplicate values in the dataset"
   ]
  },
  {
   "cell_type": "code",
   "execution_count": 8,
   "id": "c36e7677",
   "metadata": {},
   "outputs": [
    {
     "data": {
      "text/html": [
       "<div>\n",
       "<style scoped>\n",
       "    .dataframe tbody tr th:only-of-type {\n",
       "        vertical-align: middle;\n",
       "    }\n",
       "\n",
       "    .dataframe tbody tr th {\n",
       "        vertical-align: top;\n",
       "    }\n",
       "\n",
       "    .dataframe thead th {\n",
       "        text-align: right;\n",
       "    }\n",
       "</style>\n",
       "<table border=\"1\" class=\"dataframe\">\n",
       "  <thead>\n",
       "    <tr style=\"text-align: right;\">\n",
       "      <th></th>\n",
       "      <th>child_mort</th>\n",
       "      <th>exports</th>\n",
       "      <th>health</th>\n",
       "      <th>imports</th>\n",
       "      <th>income</th>\n",
       "      <th>inflation</th>\n",
       "      <th>life_expec</th>\n",
       "      <th>total_fer</th>\n",
       "      <th>gdpp</th>\n",
       "    </tr>\n",
       "  </thead>\n",
       "  <tbody>\n",
       "    <tr>\n",
       "      <th>0</th>\n",
       "      <td>90.2</td>\n",
       "      <td>10.0</td>\n",
       "      <td>7.58</td>\n",
       "      <td>44.9</td>\n",
       "      <td>1610</td>\n",
       "      <td>9.44</td>\n",
       "      <td>56.2</td>\n",
       "      <td>5.82</td>\n",
       "      <td>553</td>\n",
       "    </tr>\n",
       "    <tr>\n",
       "      <th>1</th>\n",
       "      <td>16.6</td>\n",
       "      <td>28.0</td>\n",
       "      <td>6.55</td>\n",
       "      <td>48.6</td>\n",
       "      <td>9930</td>\n",
       "      <td>4.49</td>\n",
       "      <td>76.3</td>\n",
       "      <td>1.65</td>\n",
       "      <td>4090</td>\n",
       "    </tr>\n",
       "    <tr>\n",
       "      <th>2</th>\n",
       "      <td>27.3</td>\n",
       "      <td>38.4</td>\n",
       "      <td>4.17</td>\n",
       "      <td>31.4</td>\n",
       "      <td>12900</td>\n",
       "      <td>16.10</td>\n",
       "      <td>76.5</td>\n",
       "      <td>2.89</td>\n",
       "      <td>4460</td>\n",
       "    </tr>\n",
       "    <tr>\n",
       "      <th>3</th>\n",
       "      <td>119.0</td>\n",
       "      <td>62.3</td>\n",
       "      <td>2.85</td>\n",
       "      <td>42.9</td>\n",
       "      <td>5900</td>\n",
       "      <td>22.40</td>\n",
       "      <td>60.1</td>\n",
       "      <td>6.16</td>\n",
       "      <td>3530</td>\n",
       "    </tr>\n",
       "    <tr>\n",
       "      <th>4</th>\n",
       "      <td>10.3</td>\n",
       "      <td>45.5</td>\n",
       "      <td>6.03</td>\n",
       "      <td>58.9</td>\n",
       "      <td>19100</td>\n",
       "      <td>1.44</td>\n",
       "      <td>76.8</td>\n",
       "      <td>2.13</td>\n",
       "      <td>12200</td>\n",
       "    </tr>\n",
       "    <tr>\n",
       "      <th>...</th>\n",
       "      <td>...</td>\n",
       "      <td>...</td>\n",
       "      <td>...</td>\n",
       "      <td>...</td>\n",
       "      <td>...</td>\n",
       "      <td>...</td>\n",
       "      <td>...</td>\n",
       "      <td>...</td>\n",
       "      <td>...</td>\n",
       "    </tr>\n",
       "    <tr>\n",
       "      <th>162</th>\n",
       "      <td>29.2</td>\n",
       "      <td>46.6</td>\n",
       "      <td>5.25</td>\n",
       "      <td>52.7</td>\n",
       "      <td>2950</td>\n",
       "      <td>2.62</td>\n",
       "      <td>63.0</td>\n",
       "      <td>3.50</td>\n",
       "      <td>2970</td>\n",
       "    </tr>\n",
       "    <tr>\n",
       "      <th>163</th>\n",
       "      <td>17.1</td>\n",
       "      <td>28.5</td>\n",
       "      <td>4.91</td>\n",
       "      <td>17.6</td>\n",
       "      <td>16500</td>\n",
       "      <td>45.90</td>\n",
       "      <td>75.4</td>\n",
       "      <td>2.47</td>\n",
       "      <td>13500</td>\n",
       "    </tr>\n",
       "    <tr>\n",
       "      <th>164</th>\n",
       "      <td>23.3</td>\n",
       "      <td>72.0</td>\n",
       "      <td>6.84</td>\n",
       "      <td>80.2</td>\n",
       "      <td>4490</td>\n",
       "      <td>12.10</td>\n",
       "      <td>73.1</td>\n",
       "      <td>1.95</td>\n",
       "      <td>1310</td>\n",
       "    </tr>\n",
       "    <tr>\n",
       "      <th>165</th>\n",
       "      <td>56.3</td>\n",
       "      <td>30.0</td>\n",
       "      <td>5.18</td>\n",
       "      <td>34.4</td>\n",
       "      <td>4480</td>\n",
       "      <td>23.60</td>\n",
       "      <td>67.5</td>\n",
       "      <td>4.67</td>\n",
       "      <td>1310</td>\n",
       "    </tr>\n",
       "    <tr>\n",
       "      <th>166</th>\n",
       "      <td>83.1</td>\n",
       "      <td>37.0</td>\n",
       "      <td>5.89</td>\n",
       "      <td>30.9</td>\n",
       "      <td>3280</td>\n",
       "      <td>14.00</td>\n",
       "      <td>52.0</td>\n",
       "      <td>5.40</td>\n",
       "      <td>1460</td>\n",
       "    </tr>\n",
       "  </tbody>\n",
       "</table>\n",
       "<p>167 rows × 9 columns</p>\n",
       "</div>"
      ],
      "text/plain": [
       "     child_mort  exports  health  imports  income  inflation  life_expec  \\\n",
       "0          90.2     10.0    7.58     44.9    1610       9.44        56.2   \n",
       "1          16.6     28.0    6.55     48.6    9930       4.49        76.3   \n",
       "2          27.3     38.4    4.17     31.4   12900      16.10        76.5   \n",
       "3         119.0     62.3    2.85     42.9    5900      22.40        60.1   \n",
       "4          10.3     45.5    6.03     58.9   19100       1.44        76.8   \n",
       "..          ...      ...     ...      ...     ...        ...         ...   \n",
       "162        29.2     46.6    5.25     52.7    2950       2.62        63.0   \n",
       "163        17.1     28.5    4.91     17.6   16500      45.90        75.4   \n",
       "164        23.3     72.0    6.84     80.2    4490      12.10        73.1   \n",
       "165        56.3     30.0    5.18     34.4    4480      23.60        67.5   \n",
       "166        83.1     37.0    5.89     30.9    3280      14.00        52.0   \n",
       "\n",
       "     total_fer   gdpp  \n",
       "0         5.82    553  \n",
       "1         1.65   4090  \n",
       "2         2.89   4460  \n",
       "3         6.16   3530  \n",
       "4         2.13  12200  \n",
       "..         ...    ...  \n",
       "162       3.50   2970  \n",
       "163       2.47  13500  \n",
       "164       1.95   1310  \n",
       "165       4.67   1310  \n",
       "166       5.40   1460  \n",
       "\n",
       "[167 rows x 9 columns]"
      ]
     },
     "execution_count": 8,
     "metadata": {},
     "output_type": "execute_result"
    }
   ],
   "source": [
    "df=data.drop('country',axis=1)\n",
    "df"
   ]
  },
  {
   "cell_type": "code",
   "execution_count": 9,
   "id": "8f826617",
   "metadata": {},
   "outputs": [
    {
     "name": "stderr",
     "output_type": "stream",
     "text": [
      "F:\\Soft\\Anaconda\\lib\\site-packages\\sklearn\\cluster\\_kmeans.py:881: UserWarning: KMeans is known to have a memory leak on Windows with MKL, when there are less chunks than available threads. You can avoid it by setting the environment variable OMP_NUM_THREADS=1.\n",
      "  warnings.warn(\n"
     ]
    },
    {
     "data": {
      "image/png": "[encoded data removed]",
      "text/plain": [
       "<Figure size 720x360 with 1 Axes>"
      ]
     },
     "metadata": {
      "needs_background": "light"
     },
     "output_type": "display_data"
    }
   ],
   "source": [
    "#Elbow method\n",
    "plt.figure(figsize=(10,5))\n",
    "from sklearn.cluster import KMeans\n",
    "wcss = []\n",
    "for i in range(1,11):\n",
    "    kmeans = KMeans(n_clusters = i, init = 'k-means++', random_state = 42)\n",
    "    kmeans.fit(df)\n",
    "    wcss.append(kmeans.inertia_)\n",
    "plt.plot(range(1,11),wcss)\n",
    "\n",
    "plt.show()"
   ]
  },
  {
   "cell_type": "code",
   "execution_count": 10,
   "id": "05c123af",
   "metadata": {},
   "outputs": [
    {
     "data": {
      "text/plain": [
       "array([0, 0, 0, 0, 0, 0, 0, 1, 1, 0, 0, 1, 0, 0, 0, 1, 0, 0, 0, 0, 0, 0,\n",
       "       0, 1, 0, 0, 0, 0, 0, 1, 0, 0, 0, 0, 0, 0, 0, 0, 0, 0, 0, 0, 1, 0,\n",
       "       1, 0, 0, 0, 0, 0, 0, 0, 0, 1, 1, 0, 0, 0, 1, 0, 1, 0, 0, 0, 0, 0,\n",
       "       0, 0, 1, 0, 0, 0, 0, 1, 1, 1, 0, 1, 0, 0, 0, 0, 1, 0, 0, 0, 0, 0,\n",
       "       0, 0, 0, 1, 0, 0, 0, 0, 0, 0, 0, 0, 0, 0, 0, 0, 0, 0, 0, 0, 0, 0,\n",
       "       1, 1, 0, 0, 1, 1, 0, 0, 0, 0, 0, 0, 0, 1, 0, 0, 0, 0, 1, 0, 0, 0,\n",
       "       0, 1, 0, 0, 0, 0, 0, 1, 0, 0, 0, 0, 1, 1, 0, 0, 0, 0, 0, 0, 0, 0,\n",
       "       0, 0, 0, 1, 1, 1, 0, 0, 0, 0, 0, 0, 0])"
      ]
     },
     "execution_count": 10,
     "metadata": {},
     "output_type": "execute_result"
    }
   ],
   "source": [
    "#KMeans\n",
    "kmeans = KMeans(n_clusters = 2, init = 'k-means++', random_state=42)\n",
    "labels_2 = kmeans.fit_predict(df)\n",
    "labels_2"
   ]
  },
  {
   "cell_type": "code",
   "execution_count": 12,
   "id": "a30ab4c9",
   "metadata": {},
   "outputs": [
    {
     "name": "stdout",
     "output_type": "stream",
     "text": [
      "Silhouette Score: 0.726\n"
     ]
    }
   ],
   "source": [
    "#Silhoutte Score\n",
    "from sklearn.metrics import silhouette_score\n",
    "score_2 = silhouette_score(df, labels_2, metric='euclidean')\n",
    "print('Silhouette Score: %.3f' % score_2)"
   ]
  },
  {
   "cell_type": "code",
   "execution_count": 13,
   "id": "e02af548",
   "metadata": {},
   "outputs": [
    {
     "data": {
      "text/plain": [
       "<AxesSubplot:xlabel='PC1', ylabel='PC2'>"
      ]
     },
     "execution_count": 13,
     "metadata": {},
     "output_type": "execute_result"
    },
    {
     "data": {
      "image/png": "[encoded data removed]",
      "text/plain": [
       "<Figure size 720x360 with 1 Axes>"
      ]
     },
     "metadata": {
      "needs_background": "light"
     },
     "output_type": "display_data"
    }
   ],
   "source": [
    "# Visualization\n",
    "from sklearn.decomposition import PCA\n",
    "pca = PCA(n_components = 2)\n",
    "c = pd.DataFrame(pca.fit_transform(df), columns=[\"PC1\", \"PC2\"])\n",
    "c['labels_2'] = labels_2\n",
    "plt.figure(figsize=(10,5))\n",
    "sns.scatterplot(x=c['PC1'],y=c['PC2'],hue=c['labels_2'])"
   ]
  },
  {
   "cell_type": "code",
   "execution_count": 14,
   "id": "7f1cc985",
   "metadata": {},
   "outputs": [
    {
     "data": {
      "text/html": [
       "<div>\n",
       "<style scoped>\n",
       "    .dataframe tbody tr th:only-of-type {\n",
       "        vertical-align: middle;\n",
       "    }\n",
       "\n",
       "    .dataframe tbody tr th {\n",
       "        vertical-align: top;\n",
       "    }\n",
       "\n",
       "    .dataframe thead th {\n",
       "        text-align: right;\n",
       "    }\n",
       "</style>\n",
       "<table border=\"1\" class=\"dataframe\">\n",
       "  <thead>\n",
       "    <tr style=\"text-align: right;\">\n",
       "      <th></th>\n",
       "      <th>0</th>\n",
       "      <th>1</th>\n",
       "      <th>2</th>\n",
       "      <th>3</th>\n",
       "      <th>4</th>\n",
       "      <th>5</th>\n",
       "      <th>6</th>\n",
       "      <th>7</th>\n",
       "      <th>8</th>\n",
       "    </tr>\n",
       "  </thead>\n",
       "  <tbody>\n",
       "    <tr>\n",
       "      <th>0</th>\n",
       "      <td>0.052863</td>\n",
       "      <td>0.005861</td>\n",
       "      <td>0.004442</td>\n",
       "      <td>0.026314</td>\n",
       "      <td>0.943556</td>\n",
       "      <td>0.005532</td>\n",
       "      <td>0.032937</td>\n",
       "      <td>0.003411</td>\n",
       "      <td>0.324091</td>\n",
       "    </tr>\n",
       "    <tr>\n",
       "      <th>1</th>\n",
       "      <td>0.001546</td>\n",
       "      <td>0.002607</td>\n",
       "      <td>0.000610</td>\n",
       "      <td>0.004525</td>\n",
       "      <td>0.924602</td>\n",
       "      <td>0.000418</td>\n",
       "      <td>0.007104</td>\n",
       "      <td>0.000154</td>\n",
       "      <td>0.380828</td>\n",
       "    </tr>\n",
       "    <tr>\n",
       "      <th>2</th>\n",
       "      <td>0.002000</td>\n",
       "      <td>0.002813</td>\n",
       "      <td>0.000306</td>\n",
       "      <td>0.002300</td>\n",
       "      <td>0.945084</td>\n",
       "      <td>0.001180</td>\n",
       "      <td>0.005605</td>\n",
       "      <td>0.000212</td>\n",
       "      <td>0.326750</td>\n",
       "    </tr>\n",
       "    <tr>\n",
       "      <th>3</th>\n",
       "      <td>0.017304</td>\n",
       "      <td>0.009059</td>\n",
       "      <td>0.000414</td>\n",
       "      <td>0.006238</td>\n",
       "      <td>0.857916</td>\n",
       "      <td>0.003257</td>\n",
       "      <td>0.008739</td>\n",
       "      <td>0.000896</td>\n",
       "      <td>0.513295</td>\n",
       "    </tr>\n",
       "    <tr>\n",
       "      <th>4</th>\n",
       "      <td>0.000454</td>\n",
       "      <td>0.002008</td>\n",
       "      <td>0.000266</td>\n",
       "      <td>0.002599</td>\n",
       "      <td>0.842742</td>\n",
       "      <td>0.000064</td>\n",
       "      <td>0.003389</td>\n",
       "      <td>0.000094</td>\n",
       "      <td>0.538296</td>\n",
       "    </tr>\n",
       "    <tr>\n",
       "      <th>...</th>\n",
       "      <td>...</td>\n",
       "      <td>...</td>\n",
       "      <td>...</td>\n",
       "      <td>...</td>\n",
       "      <td>...</td>\n",
       "      <td>...</td>\n",
       "      <td>...</td>\n",
       "      <td>...</td>\n",
       "      <td>...</td>\n",
       "    </tr>\n",
       "    <tr>\n",
       "      <th>162</th>\n",
       "      <td>0.006974</td>\n",
       "      <td>0.011129</td>\n",
       "      <td>0.001254</td>\n",
       "      <td>0.012586</td>\n",
       "      <td>0.704517</td>\n",
       "      <td>0.000626</td>\n",
       "      <td>0.015046</td>\n",
       "      <td>0.000836</td>\n",
       "      <td>0.709293</td>\n",
       "    </tr>\n",
       "    <tr>\n",
       "      <th>163</th>\n",
       "      <td>0.000802</td>\n",
       "      <td>0.001337</td>\n",
       "      <td>0.000230</td>\n",
       "      <td>0.000826</td>\n",
       "      <td>0.773949</td>\n",
       "      <td>0.002153</td>\n",
       "      <td>0.003537</td>\n",
       "      <td>0.000116</td>\n",
       "      <td>0.633231</td>\n",
       "    </tr>\n",
       "    <tr>\n",
       "      <th>164</th>\n",
       "      <td>0.004980</td>\n",
       "      <td>0.015388</td>\n",
       "      <td>0.001462</td>\n",
       "      <td>0.017140</td>\n",
       "      <td>0.959588</td>\n",
       "      <td>0.002586</td>\n",
       "      <td>0.015623</td>\n",
       "      <td>0.000417</td>\n",
       "      <td>0.279969</td>\n",
       "    </tr>\n",
       "    <tr>\n",
       "      <th>165</th>\n",
       "      <td>0.012059</td>\n",
       "      <td>0.006426</td>\n",
       "      <td>0.001110</td>\n",
       "      <td>0.007368</td>\n",
       "      <td>0.959578</td>\n",
       "      <td>0.005055</td>\n",
       "      <td>0.014458</td>\n",
       "      <td>0.001000</td>\n",
       "      <td>0.280591</td>\n",
       "    </tr>\n",
       "    <tr>\n",
       "      <th>166</th>\n",
       "      <td>0.023135</td>\n",
       "      <td>0.010301</td>\n",
       "      <td>0.001640</td>\n",
       "      <td>0.008603</td>\n",
       "      <td>0.913150</td>\n",
       "      <td>0.003898</td>\n",
       "      <td>0.014477</td>\n",
       "      <td>0.001503</td>\n",
       "      <td>0.406463</td>\n",
       "    </tr>\n",
       "  </tbody>\n",
       "</table>\n",
       "<p>167 rows × 9 columns</p>\n",
       "</div>"
      ],
      "text/plain": [
       "            0         1         2         3         4         5         6  \\\n",
       "0    0.052863  0.005861  0.004442  0.026314  0.943556  0.005532  0.032937   \n",
       "1    0.001546  0.002607  0.000610  0.004525  0.924602  0.000418  0.007104   \n",
       "2    0.002000  0.002813  0.000306  0.002300  0.945084  0.001180  0.005605   \n",
       "3    0.017304  0.009059  0.000414  0.006238  0.857916  0.003257  0.008739   \n",
       "4    0.000454  0.002008  0.000266  0.002599  0.842742  0.000064  0.003389   \n",
       "..        ...       ...       ...       ...       ...       ...       ...   \n",
       "162  0.006974  0.011129  0.001254  0.012586  0.704517  0.000626  0.015046   \n",
       "163  0.000802  0.001337  0.000230  0.000826  0.773949  0.002153  0.003537   \n",
       "164  0.004980  0.015388  0.001462  0.017140  0.959588  0.002586  0.015623   \n",
       "165  0.012059  0.006426  0.001110  0.007368  0.959578  0.005055  0.014458   \n",
       "166  0.023135  0.010301  0.001640  0.008603  0.913150  0.003898  0.014477   \n",
       "\n",
       "            7         8  \n",
       "0    0.003411  0.324091  \n",
       "1    0.000154  0.380828  \n",
       "2    0.000212  0.326750  \n",
       "3    0.000896  0.513295  \n",
       "4    0.000094  0.538296  \n",
       "..        ...       ...  \n",
       "162  0.000836  0.709293  \n",
       "163  0.000116  0.633231  \n",
       "164  0.000417  0.279969  \n",
       "165  0.001000  0.280591  \n",
       "166  0.001503  0.406463  \n",
       "\n",
       "[167 rows x 9 columns]"
      ]
     },
     "execution_count": 14,
     "metadata": {},
     "output_type": "execute_result"
    }
   ],
   "source": [
    "#Normalization\n",
    "from sklearn import preprocessing\n",
    "X=preprocessing.normalize(df)\n",
    "X=pd.DataFrame(X)\n",
    "X"
   ]
  },
  {
   "cell_type": "code",
   "execution_count": 15,
   "id": "4e50a691",
   "metadata": {},
   "outputs": [
    {
     "name": "stderr",
     "output_type": "stream",
     "text": [
      "F:\\Soft\\Anaconda\\lib\\site-packages\\sklearn\\cluster\\_kmeans.py:881: UserWarning: KMeans is known to have a memory leak on Windows with MKL, when there are less chunks than available threads. You can avoid it by setting the environment variable OMP_NUM_THREADS=1.\n",
      "  warnings.warn(\n"
     ]
    },
    {
     "data": {
      "image/png": "[encoded data removed]",
      "text/plain": [
       "<Figure size 720x360 with 1 Axes>"
      ]
     },
     "metadata": {
      "needs_background": "light"
     },
     "output_type": "display_data"
    }
   ],
   "source": [
    "# Elbow method\n",
    "plt.figure(figsize=(10,5))\n",
    "wcss = []\n",
    "for i in range(1,11):\n",
    "    kmeans = KMeans(n_clusters = i, init = 'k-means++', random_state = 42)\n",
    "    kmeans.fit(X)\n",
    "    wcss.append(kmeans.inertia_)\n",
    "plt.plot(range(1,11),wcss)\n",
    "\n",
    "plt.show()"
   ]
  },
  {
   "cell_type": "code",
   "execution_count": 39,
   "id": "53ed6593",
   "metadata": {},
   "outputs": [
    {
     "data": {
      "text/plain": [
       "array([1, 1, 1, 2, 2, 2, 1, 0, 0, 1, 0, 2, 1, 0, 1, 0, 2, 1, 1, 1, 1, 1,\n",
       "       2, 1, 1, 1, 1, 1, 2, 0, 2, 1, 1, 2, 1, 2, 2, 2, 2, 2, 1, 2, 0, 2,\n",
       "       0, 2, 2, 1, 1, 2, 1, 2, 2, 0, 0, 2, 1, 1, 0, 1, 0, 2, 1, 2, 1, 2,\n",
       "       1, 2, 0, 1, 1, 1, 1, 0, 0, 0, 2, 0, 1, 1, 1, 0, 2, 1, 1, 2, 2, 1,\n",
       "       1, 1, 2, 0, 1, 1, 1, 1, 2, 1, 2, 1, 2, 0, 1, 1, 1, 1, 1, 1, 2, 1,\n",
       "       0, 0, 1, 1, 0, 1, 1, 2, 1, 2, 1, 2, 0, 2, 1, 1, 1, 2, 1, 1, 1, 2,\n",
       "       1, 2, 2, 0, 2, 2, 2, 0, 1, 2, 1, 2, 0, 0, 1, 1, 1, 0, 1, 2, 1, 2,\n",
       "       1, 1, 1, 2, 0, 0, 2, 1, 0, 0, 1, 1, 1])"
      ]
     },
     "execution_count": 39,
     "metadata": {},
     "output_type": "execute_result"
    }
   ],
   "source": [
    "#KMeans\n",
    "kmeans1 = KMeans(n_clusters = 3, init = 'k-means++', random_state=42)\n",
    "labels_no = kmeans1.fit_predict(X)\n",
    "labels_no"
   ]
  },
  {
   "cell_type": "code",
   "execution_count": 40,
   "id": "25457e28",
   "metadata": {},
   "outputs": [
    {
     "name": "stdout",
     "output_type": "stream",
     "text": [
      "Silhouette Score: 0.520\n"
     ]
    }
   ],
   "source": [
    "#Silhouette Score\n",
    "score_no = silhouette_score(X, labels_no, metric='euclidean')\n",
    "print('Silhouette Score: %.3f' % score_no)"
   ]
  },
  {
   "cell_type": "code",
   "execution_count": 41,
   "id": "53b78f99",
   "metadata": {},
   "outputs": [
    {
     "data": {
      "text/plain": [
       "<AxesSubplot:xlabel='PC1', ylabel='PC2'>"
      ]
     },
     "execution_count": 41,
     "metadata": {},
     "output_type": "execute_result"
    },
    {
     "data": {
      "image/png": "[encoded data removed]",
      "text/plain": [
       "<Figure size 720x360 with 1 Axes>"
      ]
     },
     "metadata": {
      "needs_background": "light"
     },
     "output_type": "display_data"
    }
   ],
   "source": [
    "# Visualization\n",
    "pca = PCA(n_components = 2)\n",
    "b = pd.DataFrame(pca.fit_transform(X), columns=[\"PC1\", \"PC2\"])\n",
    "b['labels_no'] = labels_no\n",
    "plt.figure(figsize=(10,5))\n",
    "sns.scatterplot(x=b['PC1'],y=b['PC2'],hue=b['labels_no'])"
   ]
  },
  {
   "cell_type": "code",
   "execution_count": 42,
   "id": "b500d2f9",
   "metadata": {},
   "outputs": [
    {
     "data": {
      "image/png": "[encoded data removed]",
      "text/plain": [
       "<Figure size 1080x576 with 1 Axes>"
      ]
     },
     "metadata": {
      "needs_background": "light"
     },
     "output_type": "display_data"
    }
   ],
   "source": [
    "#dendrogram\n",
    "from scipy.cluster.hierarchy import dendrogram,linkage\n",
    "linked=linkage(df,method=\"ward\")\n",
    "plt.figure(figsize=(15,8))\n",
    "dendrogram(linked,orientation=\"top\",distance_sort=\"ascending\",show_leaf_counts=True)\n",
    "plt.show()"
   ]
  },
  {
   "cell_type": "code",
   "execution_count": 43,
   "id": "a59d53b5",
   "metadata": {},
   "outputs": [
    {
     "data": {
      "text/plain": [
       "array([0, 0, 0, 0, 0, 0, 0, 1, 1, 0, 0, 0, 0, 0, 0, 1, 0, 0, 0, 0, 0, 0,\n",
       "       0, 1, 0, 0, 0, 0, 0, 1, 0, 0, 0, 0, 0, 0, 0, 0, 0, 0, 0, 0, 0, 0,\n",
       "       1, 0, 0, 0, 0, 0, 0, 0, 0, 1, 1, 0, 0, 0, 1, 0, 0, 0, 0, 0, 0, 0,\n",
       "       0, 0, 1, 0, 0, 0, 0, 1, 0, 1, 0, 1, 0, 0, 0, 0, 1, 0, 0, 0, 0, 0,\n",
       "       0, 0, 0, 1, 0, 0, 0, 0, 0, 0, 0, 0, 0, 0, 0, 0, 0, 0, 0, 0, 0, 0,\n",
       "       1, 0, 0, 0, 1, 0, 0, 0, 0, 0, 0, 0, 0, 1, 0, 0, 0, 0, 0, 0, 0, 0,\n",
       "       0, 1, 0, 0, 0, 0, 0, 0, 0, 0, 0, 0, 1, 1, 0, 0, 0, 0, 0, 0, 0, 0,\n",
       "       0, 0, 0, 1, 1, 1, 0, 0, 0, 0, 0, 0, 0], dtype=int64)"
      ]
     },
     "execution_count": 43,
     "metadata": {},
     "output_type": "execute_result"
    }
   ],
   "source": [
    "# Heirarchial Clustering\n",
    "from sklearn.cluster import AgglomerativeClustering\n",
    "cluster=AgglomerativeClustering(n_clusters=2,affinity=\"euclidean\",linkage=\"ward\")\n",
    "labels_hc=cluster.fit_predict(df)\n",
    "labels_hc"
   ]
  },
  {
   "cell_type": "code",
   "execution_count": 44,
   "id": "5b4f4744",
   "metadata": {},
   "outputs": [
    {
     "name": "stdout",
     "output_type": "stream",
     "text": [
      "Silhouette Score: 0.723\n"
     ]
    }
   ],
   "source": [
    "#Silhouette Score\n",
    "score_hc = silhouette_score(df, labels_hc, metric='euclidean')\n",
    "print('Silhouette Score: %.3f' % score_hc)"
   ]
  },
  {
   "cell_type": "code",
   "execution_count": 45,
   "id": "3573aadb",
   "metadata": {},
   "outputs": [
    {
     "data": {
      "text/plain": [
       "array([0, 0, 0, 0, 0, 0, 0, 1, 1, 0, 1, 0, 0, 1, 0, 1, 0, 0, 0, 0, 0, 0,\n",
       "       0, 0, 0, 0, 0, 0, 0, 1, 0, 0, 0, 0, 0, 0, 0, 0, 0, 0, 0, 0, 1, 0,\n",
       "       1, 0, 0, 0, 0, 0, 0, 0, 0, 1, 1, 0, 0, 0, 1, 0, 1, 0, 0, 0, 0, 0,\n",
       "       0, 0, 1, 0, 0, 0, 0, 1, 1, 1, 0, 1, 0, 0, 0, 1, 0, 0, 0, 0, 0, 0,\n",
       "       0, 0, 0, 1, 0, 0, 0, 0, 0, 0, 0, 0, 0, 1, 0, 0, 0, 0, 0, 0, 0, 0,\n",
       "       1, 1, 0, 0, 1, 0, 0, 0, 0, 0, 0, 0, 1, 0, 0, 0, 0, 0, 0, 0, 0, 0,\n",
       "       0, 0, 0, 1, 0, 0, 0, 1, 0, 0, 0, 0, 1, 1, 0, 0, 0, 1, 0, 0, 0, 0,\n",
       "       0, 0, 0, 0, 1, 1, 0, 0, 1, 1, 0, 0, 0], dtype=int64)"
      ]
     },
     "execution_count": 45,
     "metadata": {},
     "output_type": "execute_result"
    }
   ],
   "source": [
    "#Heirarchial Clustering\n",
    "cluster=AgglomerativeClustering(n_clusters=2,affinity=\"euclidean\",linkage=\"ward\")\n",
    "labels_hc1=cluster.fit_predict(X)\n",
    "labels_hc1"
   ]
  },
  {
   "cell_type": "code",
   "execution_count": 46,
   "id": "d9ba22ec",
   "metadata": {},
   "outputs": [
    {
     "name": "stdout",
     "output_type": "stream",
     "text": [
      "Silhouette Score: 0.543\n"
     ]
    }
   ],
   "source": [
    "# Silhouette Score\n",
    "score_hc1 = silhouette_score(df, labels_hc1, metric='euclidean')\n",
    "print('Silhouette Score: %.3f' % score_hc1)"
   ]
  },
  {
   "cell_type": "code",
   "execution_count": 47,
   "id": "da91e895",
   "metadata": {},
   "outputs": [
    {
     "data": {
      "text/plain": [
       "<AxesSubplot:xlabel='PC1', ylabel='PC2'>"
      ]
     },
     "execution_count": 47,
     "metadata": {},
     "output_type": "execute_result"
    },
    {
     "data": {
      "image/png": "[encoded data removed]",
      "text/plain": [
       "<Figure size 720x360 with 1 Axes>"
      ]
     },
     "metadata": {
      "needs_background": "light"
     },
     "output_type": "display_data"
    }
   ],
   "source": [
    "# Visualization\n",
    "pca = PCA(n_components = 2)\n",
    "a = pd.DataFrame(pca.fit_transform(df), columns=[\"PC1\", \"PC2\"])\n",
    "a['labels_hc'] = labels_hc\n",
    "plt.figure(figsize=(10,5))\n",
    "sns.scatterplot(x=a['PC1'],y=a['PC2'],hue=a['labels_hc'])"
   ]
  },
  {
   "cell_type": "code",
   "execution_count": 48,
   "id": "e814b4df",
   "metadata": {},
   "outputs": [
    {
     "data": {
      "text/html": [
       "<div>\n",
       "<style scoped>\n",
       "    .dataframe tbody tr th:only-of-type {\n",
       "        vertical-align: middle;\n",
       "    }\n",
       "\n",
       "    .dataframe tbody tr th {\n",
       "        vertical-align: top;\n",
       "    }\n",
       "\n",
       "    .dataframe thead th {\n",
       "        text-align: right;\n",
       "    }\n",
       "</style>\n",
       "<table border=\"1\" class=\"dataframe\">\n",
       "  <thead>\n",
       "    <tr style=\"text-align: right;\">\n",
       "      <th></th>\n",
       "      <th>country</th>\n",
       "      <th>child_mort</th>\n",
       "      <th>exports</th>\n",
       "      <th>health</th>\n",
       "      <th>imports</th>\n",
       "      <th>income</th>\n",
       "      <th>inflation</th>\n",
       "      <th>life_expec</th>\n",
       "      <th>total_fer</th>\n",
       "      <th>gdpp</th>\n",
       "      <th>labels_2</th>\n",
       "    </tr>\n",
       "  </thead>\n",
       "  <tbody>\n",
       "    <tr>\n",
       "      <th>0</th>\n",
       "      <td>Afghanistan</td>\n",
       "      <td>90.2</td>\n",
       "      <td>10.0</td>\n",
       "      <td>7.58</td>\n",
       "      <td>44.9</td>\n",
       "      <td>1610</td>\n",
       "      <td>9.44</td>\n",
       "      <td>56.2</td>\n",
       "      <td>5.82</td>\n",
       "      <td>553</td>\n",
       "      <td>0</td>\n",
       "    </tr>\n",
       "    <tr>\n",
       "      <th>1</th>\n",
       "      <td>Albania</td>\n",
       "      <td>16.6</td>\n",
       "      <td>28.0</td>\n",
       "      <td>6.55</td>\n",
       "      <td>48.6</td>\n",
       "      <td>9930</td>\n",
       "      <td>4.49</td>\n",
       "      <td>76.3</td>\n",
       "      <td>1.65</td>\n",
       "      <td>4090</td>\n",
       "      <td>0</td>\n",
       "    </tr>\n",
       "    <tr>\n",
       "      <th>2</th>\n",
       "      <td>Algeria</td>\n",
       "      <td>27.3</td>\n",
       "      <td>38.4</td>\n",
       "      <td>4.17</td>\n",
       "      <td>31.4</td>\n",
       "      <td>12900</td>\n",
       "      <td>16.10</td>\n",
       "      <td>76.5</td>\n",
       "      <td>2.89</td>\n",
       "      <td>4460</td>\n",
       "      <td>0</td>\n",
       "    </tr>\n",
       "    <tr>\n",
       "      <th>3</th>\n",
       "      <td>Angola</td>\n",
       "      <td>119.0</td>\n",
       "      <td>62.3</td>\n",
       "      <td>2.85</td>\n",
       "      <td>42.9</td>\n",
       "      <td>5900</td>\n",
       "      <td>22.40</td>\n",
       "      <td>60.1</td>\n",
       "      <td>6.16</td>\n",
       "      <td>3530</td>\n",
       "      <td>0</td>\n",
       "    </tr>\n",
       "    <tr>\n",
       "      <th>4</th>\n",
       "      <td>Antigua and Barbuda</td>\n",
       "      <td>10.3</td>\n",
       "      <td>45.5</td>\n",
       "      <td>6.03</td>\n",
       "      <td>58.9</td>\n",
       "      <td>19100</td>\n",
       "      <td>1.44</td>\n",
       "      <td>76.8</td>\n",
       "      <td>2.13</td>\n",
       "      <td>12200</td>\n",
       "      <td>0</td>\n",
       "    </tr>\n",
       "    <tr>\n",
       "      <th>...</th>\n",
       "      <td>...</td>\n",
       "      <td>...</td>\n",
       "      <td>...</td>\n",
       "      <td>...</td>\n",
       "      <td>...</td>\n",
       "      <td>...</td>\n",
       "      <td>...</td>\n",
       "      <td>...</td>\n",
       "      <td>...</td>\n",
       "      <td>...</td>\n",
       "      <td>...</td>\n",
       "    </tr>\n",
       "    <tr>\n",
       "      <th>162</th>\n",
       "      <td>Vanuatu</td>\n",
       "      <td>29.2</td>\n",
       "      <td>46.6</td>\n",
       "      <td>5.25</td>\n",
       "      <td>52.7</td>\n",
       "      <td>2950</td>\n",
       "      <td>2.62</td>\n",
       "      <td>63.0</td>\n",
       "      <td>3.50</td>\n",
       "      <td>2970</td>\n",
       "      <td>0</td>\n",
       "    </tr>\n",
       "    <tr>\n",
       "      <th>163</th>\n",
       "      <td>Venezuela</td>\n",
       "      <td>17.1</td>\n",
       "      <td>28.5</td>\n",
       "      <td>4.91</td>\n",
       "      <td>17.6</td>\n",
       "      <td>16500</td>\n",
       "      <td>45.90</td>\n",
       "      <td>75.4</td>\n",
       "      <td>2.47</td>\n",
       "      <td>13500</td>\n",
       "      <td>0</td>\n",
       "    </tr>\n",
       "    <tr>\n",
       "      <th>164</th>\n",
       "      <td>Vietnam</td>\n",
       "      <td>23.3</td>\n",
       "      <td>72.0</td>\n",
       "      <td>6.84</td>\n",
       "      <td>80.2</td>\n",
       "      <td>4490</td>\n",
       "      <td>12.10</td>\n",
       "      <td>73.1</td>\n",
       "      <td>1.95</td>\n",
       "      <td>1310</td>\n",
       "      <td>0</td>\n",
       "    </tr>\n",
       "    <tr>\n",
       "      <th>165</th>\n",
       "      <td>Yemen</td>\n",
       "      <td>56.3</td>\n",
       "      <td>30.0</td>\n",
       "      <td>5.18</td>\n",
       "      <td>34.4</td>\n",
       "      <td>4480</td>\n",
       "      <td>23.60</td>\n",
       "      <td>67.5</td>\n",
       "      <td>4.67</td>\n",
       "      <td>1310</td>\n",
       "      <td>0</td>\n",
       "    </tr>\n",
       "    <tr>\n",
       "      <th>166</th>\n",
       "      <td>Zambia</td>\n",
       "      <td>83.1</td>\n",
       "      <td>37.0</td>\n",
       "      <td>5.89</td>\n",
       "      <td>30.9</td>\n",
       "      <td>3280</td>\n",
       "      <td>14.00</td>\n",
       "      <td>52.0</td>\n",
       "      <td>5.40</td>\n",
       "      <td>1460</td>\n",
       "      <td>0</td>\n",
       "    </tr>\n",
       "  </tbody>\n",
       "</table>\n",
       "<p>167 rows × 11 columns</p>\n",
       "</div>"
      ],
      "text/plain": [
       "                 country  child_mort  exports  health  imports  income  \\\n",
       "0            Afghanistan        90.2     10.0    7.58     44.9    1610   \n",
       "1                Albania        16.6     28.0    6.55     48.6    9930   \n",
       "2                Algeria        27.3     38.4    4.17     31.4   12900   \n",
       "3                 Angola       119.0     62.3    2.85     42.9    5900   \n",
       "4    Antigua and Barbuda        10.3     45.5    6.03     58.9   19100   \n",
       "..                   ...         ...      ...     ...      ...     ...   \n",
       "162              Vanuatu        29.2     46.6    5.25     52.7    2950   \n",
       "163            Venezuela        17.1     28.5    4.91     17.6   16500   \n",
       "164              Vietnam        23.3     72.0    6.84     80.2    4490   \n",
       "165                Yemen        56.3     30.0    5.18     34.4    4480   \n",
       "166               Zambia        83.1     37.0    5.89     30.9    3280   \n",
       "\n",
       "     inflation  life_expec  total_fer   gdpp  labels_2  \n",
       "0         9.44        56.2       5.82    553         0  \n",
       "1         4.49        76.3       1.65   4090         0  \n",
       "2        16.10        76.5       2.89   4460         0  \n",
       "3        22.40        60.1       6.16   3530         0  \n",
       "4         1.44        76.8       2.13  12200         0  \n",
       "..         ...         ...        ...    ...       ...  \n",
       "162       2.62        63.0       3.50   2970         0  \n",
       "163      45.90        75.4       2.47  13500         0  \n",
       "164      12.10        73.1       1.95   1310         0  \n",
       "165      23.60        67.5       4.67   1310         0  \n",
       "166      14.00        52.0       5.40   1460         0  \n",
       "\n",
       "[167 rows x 11 columns]"
      ]
     },
     "execution_count": 48,
     "metadata": {},
     "output_type": "execute_result"
    }
   ],
   "source": [
    "data['labels_2']=labels_2\n",
    "data"
   ]
  },
  {
   "cell_type": "markdown",
   "id": "45b4103d",
   "metadata": {},
   "source": [
    "# CONCLUSION:\n",
    "    \n",
    "Based on Silhoutte score the best performing model was KMeans clustering for K=2.\n",
    "The country names based on clustering are divided into priority and non priority countries.They are given below:"
   ]
  },
  {
   "cell_type": "code",
   "execution_count": 49,
   "id": "ad1a5846",
   "metadata": {},
   "outputs": [],
   "source": [
    "pc=data[data['labels_2']==0]\n",
    "npc=data[data['labels_2']==1]"
   ]
  },
  {
   "cell_type": "markdown",
   "id": "efb99ccb",
   "metadata": {},
   "source": [
    "### priority countries:"
   ]
  },
  {
   "cell_type": "code",
   "execution_count": 50,
   "id": "bf67fb65",
   "metadata": {},
   "outputs": [
    {
     "data": {
      "text/plain": [
       "array([['Afghanistan'],\n",
       "       ['Albania'],\n",
       "       ['Algeria'],\n",
       "       ['Angola'],\n",
       "       ['Antigua and Barbuda'],\n",
       "       ['Argentina'],\n",
       "       ['Armenia'],\n",
       "       ['Azerbaijan'],\n",
       "       ['Bahamas'],\n",
       "       ['Bangladesh'],\n",
       "       ['Barbados'],\n",
       "       ['Belarus'],\n",
       "       ['Belize'],\n",
       "       ['Benin'],\n",
       "       ['Bhutan'],\n",
       "       ['Bolivia'],\n",
       "       ['Bosnia and Herzegovina'],\n",
       "       ['Botswana'],\n",
       "       ['Brazil'],\n",
       "       ['Bulgaria'],\n",
       "       ['Burkina Faso'],\n",
       "       ['Burundi'],\n",
       "       ['Cambodia'],\n",
       "       ['Cameroon'],\n",
       "       ['Cape Verde'],\n",
       "       ['Central African Republic'],\n",
       "       ['Chad'],\n",
       "       ['Chile'],\n",
       "       ['China'],\n",
       "       ['Colombia'],\n",
       "       ['Comoros'],\n",
       "       ['Congo, Dem. Rep.'],\n",
       "       ['Congo, Rep.'],\n",
       "       ['Costa Rica'],\n",
       "       [\"Cote d'Ivoire\"],\n",
       "       ['Croatia'],\n",
       "       ['Czech Republic'],\n",
       "       ['Dominican Republic'],\n",
       "       ['Ecuador'],\n",
       "       ['Egypt'],\n",
       "       ['El Salvador'],\n",
       "       ['Equatorial Guinea'],\n",
       "       ['Eritrea'],\n",
       "       ['Estonia'],\n",
       "       ['Fiji'],\n",
       "       ['Gabon'],\n",
       "       ['Gambia'],\n",
       "       ['Georgia'],\n",
       "       ['Ghana'],\n",
       "       ['Grenada'],\n",
       "       ['Guatemala'],\n",
       "       ['Guinea'],\n",
       "       ['Guinea-Bissau'],\n",
       "       ['Guyana'],\n",
       "       ['Haiti'],\n",
       "       ['Hungary'],\n",
       "       ['India'],\n",
       "       ['Indonesia'],\n",
       "       ['Iran'],\n",
       "       ['Iraq'],\n",
       "       ['Jamaica'],\n",
       "       ['Jordan'],\n",
       "       ['Kazakhstan'],\n",
       "       ['Kenya'],\n",
       "       ['Kiribati'],\n",
       "       ['Kyrgyz Republic'],\n",
       "       ['Lao'],\n",
       "       ['Latvia'],\n",
       "       ['Lebanon'],\n",
       "       ['Lesotho'],\n",
       "       ['Liberia'],\n",
       "       ['Libya'],\n",
       "       ['Lithuania'],\n",
       "       ['Macedonia, FYR'],\n",
       "       ['Madagascar'],\n",
       "       ['Malawi'],\n",
       "       ['Malaysia'],\n",
       "       ['Maldives'],\n",
       "       ['Mali'],\n",
       "       ['Malta'],\n",
       "       ['Mauritania'],\n",
       "       ['Mauritius'],\n",
       "       ['Micronesia, Fed. Sts.'],\n",
       "       ['Moldova'],\n",
       "       ['Mongolia'],\n",
       "       ['Montenegro'],\n",
       "       ['Morocco'],\n",
       "       ['Mozambique'],\n",
       "       ['Myanmar'],\n",
       "       ['Namibia'],\n",
       "       ['Nepal'],\n",
       "       ['Niger'],\n",
       "       ['Nigeria'],\n",
       "       ['Pakistan'],\n",
       "       ['Panama'],\n",
       "       ['Paraguay'],\n",
       "       ['Peru'],\n",
       "       ['Philippines'],\n",
       "       ['Poland'],\n",
       "       ['Portugal'],\n",
       "       ['Romania'],\n",
       "       ['Russia'],\n",
       "       ['Rwanda'],\n",
       "       ['Samoa'],\n",
       "       ['Senegal'],\n",
       "       ['Serbia'],\n",
       "       ['Seychelles'],\n",
       "       ['Sierra Leone'],\n",
       "       ['Slovak Republic'],\n",
       "       ['Slovenia'],\n",
       "       ['Solomon Islands'],\n",
       "       ['South Africa'],\n",
       "       ['South Korea'],\n",
       "       ['Sri Lanka'],\n",
       "       ['St. Vincent and the Grenadines'],\n",
       "       ['Sudan'],\n",
       "       ['Suriname'],\n",
       "       ['Tajikistan'],\n",
       "       ['Tanzania'],\n",
       "       ['Thailand'],\n",
       "       ['Timor-Leste'],\n",
       "       ['Togo'],\n",
       "       ['Tonga'],\n",
       "       ['Tunisia'],\n",
       "       ['Turkey'],\n",
       "       ['Turkmenistan'],\n",
       "       ['Uganda'],\n",
       "       ['Ukraine'],\n",
       "       ['Uruguay'],\n",
       "       ['Uzbekistan'],\n",
       "       ['Vanuatu'],\n",
       "       ['Venezuela'],\n",
       "       ['Vietnam'],\n",
       "       ['Yemen'],\n",
       "       ['Zambia']], dtype=object)"
      ]
     },
     "execution_count": 50,
     "metadata": {},
     "output_type": "execute_result"
    }
   ],
   "source": [
    "pd.DataFrame(pc['country']).to_numpy()\n"
   ]
  },
  {
   "cell_type": "markdown",
   "id": "1a0800cb",
   "metadata": {},
   "source": [
    "### Non-priority countries:"
   ]
  },
  {
   "cell_type": "code",
   "execution_count": 36,
   "id": "43eb7295",
   "metadata": {},
   "outputs": [
    {
     "data": {
      "text/plain": [
       "array([['Australia'],\n",
       "       ['Austria'],\n",
       "       ['Bahrain'],\n",
       "       ['Belgium'],\n",
       "       ['Brunei'],\n",
       "       ['Canada'],\n",
       "       ['Cyprus'],\n",
       "       ['Denmark'],\n",
       "       ['Finland'],\n",
       "       ['France'],\n",
       "       ['Germany'],\n",
       "       ['Greece'],\n",
       "       ['Iceland'],\n",
       "       ['Ireland'],\n",
       "       ['Israel'],\n",
       "       ['Italy'],\n",
       "       ['Japan'],\n",
       "       ['Kuwait'],\n",
       "       ['Luxembourg'],\n",
       "       ['Netherlands'],\n",
       "       ['New Zealand'],\n",
       "       ['Norway'],\n",
       "       ['Oman'],\n",
       "       ['Qatar'],\n",
       "       ['Saudi Arabia'],\n",
       "       ['Singapore'],\n",
       "       ['Spain'],\n",
       "       ['Sweden'],\n",
       "       ['Switzerland'],\n",
       "       ['United Arab Emirates'],\n",
       "       ['United Kingdom'],\n",
       "       ['United States']], dtype=object)"
      ]
     },
     "execution_count": 36,
     "metadata": {},
     "output_type": "execute_result"
    }
   ],
   "source": [
    "pd.DataFrame(npc['country']).to_numpy()"
   ]
  }
 ],
 "metadata": {
  "kernelspec": {
   "display_name": "Python 3",
   "language": "python",
   "name": "python3"
  },
  "language_info": {
   "codemirror_mode": {
    "name": "ipython",
    "version": 3
   },
   "file_extension": ".py",
   "mimetype": "text/x-python",
   "name": "python",
   "nbconvert_exporter": "python",
   "pygments_lexer": "ipython3",
   "version": "3.8.8"
  }
 },
 "nbformat": 4,
 "nbformat_minor": 5
}
